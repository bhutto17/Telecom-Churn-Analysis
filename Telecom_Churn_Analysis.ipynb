{
 "cells": [
  {
   "cell_type": "markdown",
   "metadata": {},
   "source": [
    "## **Business Problem**\n",
    "\n",
    "This data-driven project aims to derive actionable insights to enhance customer retention by focusing on high-value customers and identifying churn risks. The primary concern is the alarming customer churn rate faced by the company, leading to significant revenue loss. A higher churn rate indicates a critical issue that requires an in-depth analysis to uncover the underlying causes and patterns.\n",
    "\n",
    "To better understand customer churn in the Telecom Company, a detailed analytical approach will be used.\n",
    "\n",
    "First, a comprehensive examination of the dataset will shed light on factors such as customer demographics, service tenure, billing patterns, common subscriptions, preferred offers, and additional services demanded. Along with this, data visualization will play a key role. By using various graphs and charts, we can better understand the reasons behind the higher churn rates. These visualizations will meticulously highlight trends within the dataset for different customer segments, helping stakeholders to better understand customer behavior.\n",
    "\n",
    "Lastly, to ensure that our findings are grounded in solid evidence, we will apply statistical tools, including t-tests and regression analyses, to validate our insights and further explore the factors driving customer churn."
   ]
  },
  {
   "cell_type": "code",
   "execution_count": 3,
   "metadata": {},
   "outputs": [
    {
     "name": "stdout",
     "output_type": "stream",
     "text": [
      "3.12.1 (main, Sep 30 2024, 17:05:21) [GCC 9.4.0]\n"
     ]
    }
   ],
   "source": [
    "import sys\n",
    "print(sys.version)"
   ]
  },
  {
   "cell_type": "markdown",
   "metadata": {},
   "source": [
    "### **Importing Modules and Loading Data**"
   ]
  },
  {
   "cell_type": "code",
   "execution_count": 6,
   "metadata": {},
   "outputs": [],
   "source": [
    "# Data Loading and Manipulation modules\n",
    "import pandas as pd\n",
    "import numpy as np\n",
    "\n",
    "# Machine learning and metrics modules.\n",
    "from scipy.stats import ttest_ind\n",
    "import statsmodels.api as sm\n",
    "from sklearn.preprocessing import LabelEncoder\n",
    "from sklearn.preprocessing import MinMaxScaler\n",
    "from sklearn.model_selection import train_test_split\n",
    "from sklearn.linear_model import LogisticRegression\n",
    "from sklearn.ensemble import RandomForestClassifier\n",
    "\n",
    "from imblearn.over_sampling import SMOTE\n",
    "from sklearn import metrics\n",
    "from sklearn.metrics import accuracy_score, confusion_matrix, precision_score, recall_score, f1_score\n",
    "\n",
    "# Visualisation Modules and Set the 'ggplot' style\n",
    "import seaborn as sns\n",
    "import matplotlib.pyplot as plt\n",
    "plt.style.use('ggplot')"
   ]
  }
 ],
 "metadata": {
  "kernelspec": {
   "display_name": "Python 3",
   "language": "python",
   "name": "python3"
  },
  "language_info": {
   "codemirror_mode": {
    "name": "ipython",
    "version": 3
   },
   "file_extension": ".py",
   "mimetype": "text/x-python",
   "name": "python",
   "nbconvert_exporter": "python",
   "pygments_lexer": "ipython3",
   "version": "3.12.1"
  }
 },
 "nbformat": 4,
 "nbformat_minor": 2
}
